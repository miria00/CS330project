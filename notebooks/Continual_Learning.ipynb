{
  "nbformat": 4,
  "nbformat_minor": 0,
  "metadata": {
    "accelerator": "GPU",
    "colab": {
      "name": "Continual Learning.ipynb",
      "private_outputs": true,
      "provenance": [],
      "collapsed_sections": [],
      "toc_visible": true,
      "include_colab_link": true
    },
    "kernelspec": {
      "display_name": "Python 3",
      "language": "python",
      "name": "python3"
    },
    "language_info": {
      "codemirror_mode": {
        "name": "ipython",
        "version": 3
      },
      "file_extension": ".py",
      "mimetype": "text/x-python",
      "name": "python",
      "nbconvert_exporter": "python",
      "pygments_lexer": "ipython3",
      "version": "3.8.8"
    }
  },
  "cells": [
    {
      "cell_type": "markdown",
      "metadata": {
        "id": "view-in-github",
        "colab_type": "text"
      },
      "source": [
        "<a href=\"https://colab.research.google.com/github/miria00/CS330project/blob/main/notebooks/Continual_Learning.ipynb\" target=\"_parent\"><img src=\"https://colab.research.google.com/assets/colab-badge.svg\" alt=\"Open In Colab\"/></a>"
      ]
    },
    {
      "cell_type": "markdown",
      "metadata": {
        "id": "hBDLwEGJ03W_"
      },
      "source": [
        "# Installing and importing"
      ]
    },
    {
      "cell_type": "code",
      "metadata": {
        "id": "FplHOfK2094n"
      },
      "source": [
        "%%capture\n",
        "!pip install -qqq wandb pytorch-lightning"
      ],
      "execution_count": null,
      "outputs": []
    },
    {
      "cell_type": "code",
      "metadata": {
        "id": "M9AO80L80smw"
      },
      "source": [
        "import numpy as np\n",
        "import pytorch_lightning as pl\n",
        "import torch\n",
        "import wandb\n",
        "from pytorch_lightning.loggers import WandbLogger\n",
        "from torch.nn import functional as F\n",
        "from torch import nn\n",
        "from torch.utils.data import DataLoader, random_split\n",
        "from torchvision.datasets import MNIST\n",
        "from torchvision import transforms"
      ],
      "execution_count": null,
      "outputs": []
    },
    {
      "cell_type": "code",
      "metadata": {
        "id": "ToeF36ptXiXc"
      },
      "source": [
        "# Remove slow mirror from list of MNIST mirrors.\n",
        "MNIST.mirrors = [\n",
        "    mirror for mirror in MNIST.mirrors\n",
        "    if not mirror.startswith(\"http://yann.lecun.com\")\n",
        "]\n",
        "\n",
        "pl.seed_everything(hash(\"setting random seeds\") % 2**32 - 1)\n",
        "\n",
        "wandb.login()"
      ],
      "execution_count": null,
      "outputs": []
    },
    {
      "cell_type": "markdown",
      "metadata": {
        "id": "H4Y0pZwX2AsG"
      },
      "source": [
        "# Building a Model with Lightning"
      ]
    },
    {
      "cell_type": "code",
      "metadata": {
        "id": "WXtU8qhm1oAr"
      },
      "source": [
        "class LitMLP(pl.LightningModule):\n",
        "\n",
        "    def __init__(self, in_dims, n_classes=10,\n",
        "                 n_layer_1=128, n_layer_2=256, lr=1e-4):\n",
        "        super().__init__()\n",
        "\n",
        "        self.layer_1 = nn.Linear(np.prod(in_dims), n_layer_1)\n",
        "        self.layer_2 = nn.Linear(n_layer_1, n_layer_2)\n",
        "        self.layer_3 = nn.Linear(n_layer_2, n_classes)\n",
        "\n",
        "        self.save_hyperparameters()\n",
        "\n",
        "        self.train_acc = pl.metrics.Accuracy()\n",
        "        self.valid_acc = pl.metrics.Accuracy()\n",
        "        self.test_acc = pl.metrics.Accuracy()\n",
        "\n",
        "    def forward(self, x):\n",
        "        batch_size, *dims = x.size()\n",
        "        x = x.view(batch_size, -1)\n",
        "        x = F.relu(self.layer_1(x))\n",
        "        x = F.relu(self.layer_2(x))\n",
        "        x = self.layer_3(x)\n",
        "        x = F.log_softmax(x, dim=1)\n",
        "        return x\n",
        "\n",
        "    def loss(self, xs, ys):\n",
        "        logits = self(xs)\n",
        "        loss = F.nll_loss(logits, ys)\n",
        "        return logits, loss\n",
        "    \n",
        "    def training_step(self, batch, batch_idx):\n",
        "        xs, ys = batch\n",
        "        logits, loss = self.loss(xs, ys)\n",
        "        preds = torch.argmax(logits, 1)\n",
        "\n",
        "        # logging metrics we calculated by hand\n",
        "        self.log('train/loss', loss, on_epoch=True)\n",
        "        # logging a pl.Metric\n",
        "        self.train_acc(preds, ys)\n",
        "        self.log('train/acc', self.train_acc, on_epoch=True)\n",
        "\n",
        "        return loss\n",
        "\n",
        "    def configure_optimizers(self):\n",
        "        return torch.optim.Adam(self.parameters(), lr=self.hparams[\"lr\"])\n",
        "    \n",
        "    def test_step(self, batch, batch_idx):\n",
        "        xs, ys = batch\n",
        "        logits, loss = self.loss(xs, ys)\n",
        "        preds = torch.argmax(logits, 1)\n",
        "\n",
        "        self.test_acc(preds, ys)\n",
        "        self.log(\"test/loss_epoch\", loss, on_step=False, on_epoch=True)\n",
        "        self.log(\"test/acc_epoch\", self.test_acc, on_step=False, on_epoch=True)\n",
        "    \n",
        "    def test_epoch_end(self, test_step_outputs):  # args are defined as part of pl API\n",
        "        dummy_input = torch.zeros(self.hparams[\"in_dims\"], device=self.device)\n",
        "        model_filename = \"model_final.onnx\"\n",
        "        torch.onnx.export(self, dummy_input, model_filename, opset_version=11)\n",
        "        wandb.save(model_filename)\n",
        "    \n",
        "    def validation_step(self, batch, batch_idx):\n",
        "        xs, ys = batch\n",
        "        logits, loss = self.loss(xs, ys)\n",
        "        preds = torch.argmax(logits, 1)\n",
        "        self.valid_acc(preds, ys)\n",
        "\n",
        "        self.log(\"valid/loss_epoch\", loss)  # default on val/test is on_epoch only\n",
        "        self.log('valid/acc_epoch', self.valid_acc)\n",
        "            \n",
        "        return logits\n",
        "\n",
        "    def validation_epoch_end(self, validation_step_outputs):\n",
        "        dummy_input = torch.zeros(self.hparams[\"in_dims\"], device=self.device)\n",
        "        model_filename = f\"model_{str(self.global_step).zfill(5)}.onnx\"\n",
        "        torch.onnx.export(self, dummy_input, model_filename, opset_version=11)\n",
        "        wandb.save(model_filename)\n",
        "\n",
        "        flattened_logits = torch.flatten(torch.cat(validation_step_outputs))\n",
        "        self.logger.experiment.log(\n",
        "            {\"valid/logits\": wandb.Histogram(flattened_logits.to(\"cpu\")),\n",
        "            \"global_step\": self.global_step})"
      ],
      "execution_count": null,
      "outputs": []
    },
    {
      "cell_type": "code",
      "metadata": {
        "id": "nEi__Gy4fnRq"
      },
      "source": [
        "class ImagePredictionLogger(pl.Callback):\n",
        "    def __init__(self, val_samples, num_samples=32):\n",
        "        super().__init__()\n",
        "        self.val_imgs, self.val_labels = val_samples\n",
        "        self.val_imgs = self.val_imgs[:num_samples]\n",
        "        self.val_labels = self.val_labels[:num_samples]\n",
        "          \n",
        "    def on_validation_epoch_end(self, trainer, pl_module):\n",
        "        val_imgs = self.val_imgs.to(device=pl_module.device)\n",
        "\n",
        "        logits = pl_module(val_imgs)\n",
        "        preds = torch.argmax(logits, 1)\n",
        "\n",
        "        trainer.logger.experiment.log({\n",
        "            \"examples\": [wandb.Image(x, caption=f\"Pred:{pred}, Label:{y}\") \n",
        "                            for x, pred, y in zip(val_imgs, preds, self.val_labels)],\n",
        "            \"global_step\": trainer.global_step\n",
        "            })"
      ],
      "execution_count": null,
      "outputs": []
    },
    {
      "cell_type": "markdown",
      "metadata": {
        "id": "WuRDSoBf59es"
      },
      "source": [
        "# Loading data"
      ]
    },
    {
      "cell_type": "code",
      "metadata": {
        "id": "n6EvnEfK65ML"
      },
      "source": [
        "class MNISTDataModule(pl.LightningDataModule):\n",
        "\n",
        "    def __init__(self, data_dir='./', batch_size=128):\n",
        "        super().__init__()\n",
        "        self.data_dir = data_dir\n",
        "        self.batch_size = batch_size\n",
        "        self.transform = transforms.Compose([\n",
        "            transforms.ToTensor(),\n",
        "            transforms.Normalize((0.1307,), (0.3081,))])\n",
        "\n",
        "    def prepare_data(self):\n",
        "        # download data, train then test\n",
        "        MNIST(self.data_dir, train=True, download=True)\n",
        "        MNIST(self.data_dir, train=False, download=True)\n",
        "\n",
        "    def setup(self, stage=None):\n",
        "\n",
        "        # we set up only relevant datasets when stage is specified\n",
        "        if stage == 'fit' or stage is None:\n",
        "            mnist = MNIST(self.data_dir, train=True, transform=self.transform)\n",
        "            self.mnist_train, self.mnist_val = random_split(mnist, [55000, 5000])\n",
        "        if stage == 'test' or stage is None:\n",
        "            self.mnist_test = MNIST(self.data_dir, train=False, transform=self.transform)\n",
        "\n",
        "    # we define a separate DataLoader for each of train/val/test\n",
        "    def train_dataloader(self):\n",
        "        mnist_train = DataLoader(self.mnist_train, batch_size=self.batch_size)\n",
        "        return mnist_train\n",
        "\n",
        "    def val_dataloader(self):\n",
        "        mnist_val = DataLoader(self.mnist_val, batch_size=10 * self.batch_size)\n",
        "        return mnist_val\n",
        "\n",
        "    def test_dataloader(self):\n",
        "        mnist_test = DataLoader(self.mnist_test, batch_size=10 * self.batch_size)\n",
        "        return mnist_test"
      ],
      "execution_count": null,
      "outputs": []
    },
    {
      "cell_type": "code",
      "metadata": {
        "id": "IP8q-ztJgJ-h"
      },
      "source": [
        "# Setup data.\n",
        "mnist = MNISTDataModule()\n",
        "mnist.prepare_data()\n",
        "mnist.setup()\n",
        "\n",
        "# Grab samples to log predictions on.\n",
        "samples = next(iter(mnist.val_dataloader()))"
      ],
      "execution_count": null,
      "outputs": []
    },
    {
      "cell_type": "markdown",
      "metadata": {
        "id": "WC3njDPgKRd9"
      },
      "source": [
        "# Making a `Trainer`"
      ]
    },
    {
      "cell_type": "code",
      "metadata": {
        "id": "CxXtBfFrKYgA"
      },
      "source": [
        "wandb_logger = WandbLogger(project=\"lit-wandb\")\n",
        "trainer = pl.Trainer(\n",
        "    logger=wandb_logger,    # W&B integration\n",
        "    log_every_n_steps=50,   # set the logging frequency\n",
        "    gpus=-1,                # use all GPUs\n",
        "    max_epochs=5,           # number of epochs\n",
        "    deterministic=True,     # keep it deterministic\n",
        "    callbacks=[ImagePredictionLogger(samples)], # see Callbacks section\n",
        ")"
      ],
      "execution_count": null,
      "outputs": []
    },
    {
      "cell_type": "markdown",
      "metadata": {
        "id": "lJlfP1v4TOX6"
      },
      "source": [
        "# Running our Model"
      ]
    },
    {
      "cell_type": "code",
      "metadata": {
        "id": "E7zB4ObdI8u8"
      },
      "source": [
        "model = LitMLP(in_dims=(1, 28, 28))\n",
        "trainer.fit(model, mnist)\n",
        "trainer.test(\n",
        "    datamodule=mnist,\n",
        "    ckpt_path=None,  # uses last-saved model\n",
        ")\n",
        "wandb.finish()"
      ],
      "execution_count": null,
      "outputs": []
    }
  ]
}